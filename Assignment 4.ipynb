{
 "cells": [
  {
   "cell_type": "code",
   "execution_count": 1,
   "id": "e2813d27",
   "metadata": {},
   "outputs": [
    {
     "name": "stdout",
     "output_type": "stream",
     "text": [
      "40\n",
      "65\n"
     ]
    }
   ],
   "source": [
    "#Q:1 Write a Python program to create a lambda function that adds 25 to a given number passed in as an argument.\n",
    "\n",
    "val=lambda a: a+25\n",
    "\n",
    "print(val(int(input())))"
   ]
  },
  {
   "cell_type": "code",
   "execution_count": 2,
   "id": "0c6562c5",
   "metadata": {},
   "outputs": [
    {
     "name": "stdout",
     "output_type": "stream",
     "text": [
      "[3, 6, 9, 12, 15, 18, 21]\n"
     ]
    }
   ],
   "source": [
    "#Q:2 Write a Python program to triple all numbers of a given list of integers. Use Python map.\n",
    "\n",
    "\n",
    "l = [1, 2, 3, 4, 5, 6, 7]\n",
    "output_list = map(lambda x: x*3, l)\n",
    "print(list(output_list))"
   ]
  },
  {
   "cell_type": "code",
   "execution_count": 3,
   "id": "7749b354",
   "metadata": {},
   "outputs": [
    {
     "name": "stdout",
     "output_type": "stream",
     "text": [
      "[16, 25, 4, 81]\n"
     ]
    }
   ],
   "source": [
    "#Q:3 Write a Python program to square the elements of a list using map() function.\n",
    "\n",
    "lst=[4,5,2,9]\n",
    "output_list = map(lambda x:x**2,lst)\n",
    "print(list(output_list))"
   ]
  },
  {
   "cell_type": "code",
   "execution_count": null,
   "id": "9096fd57",
   "metadata": {},
   "outputs": [],
   "source": []
  }
 ],
 "metadata": {
  "kernelspec": {
   "display_name": "Python 3 (ipykernel)",
   "language": "python",
   "name": "python3"
  },
  "language_info": {
   "codemirror_mode": {
    "name": "ipython",
    "version": 3
   },
   "file_extension": ".py",
   "mimetype": "text/x-python",
   "name": "python",
   "nbconvert_exporter": "python",
   "pygments_lexer": "ipython3",
   "version": "3.10.2"
  }
 },
 "nbformat": 4,
 "nbformat_minor": 5
}
