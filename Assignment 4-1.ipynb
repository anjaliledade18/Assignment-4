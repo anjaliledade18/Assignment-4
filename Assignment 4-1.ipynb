{
 "cells": [
  {
   "cell_type": "code",
   "execution_count": 1,
   "id": "01ffb05b",
   "metadata": {},
   "outputs": [
    {
     "name": "stdout",
     "output_type": "stream",
     "text": [
      "40\n",
      "65\n"
     ]
    }
   ],
   "source": [
    "#Q:1 Write a Python program to create a lambda function that adds 25 to a given number passed in as an argument.\n",
    "\n",
    "val=lambda a: a+25\n",
    "\n",
    "print(val(int(input())))"
   ]
  },
  {
   "cell_type": "code",
   "execution_count": null,
   "id": "e6a347e1",
   "metadata": {},
   "outputs": [],
   "source": []
  }
 ],
 "metadata": {
  "kernelspec": {
   "display_name": "Python 3 (ipykernel)",
   "language": "python",
   "name": "python3"
  },
  "language_info": {
   "codemirror_mode": {
    "name": "ipython",
    "version": 3
   },
   "file_extension": ".py",
   "mimetype": "text/x-python",
   "name": "python",
   "nbconvert_exporter": "python",
   "pygments_lexer": "ipython3",
   "version": "3.10.2"
  }
 },
 "nbformat": 4,
 "nbformat_minor": 5
}
